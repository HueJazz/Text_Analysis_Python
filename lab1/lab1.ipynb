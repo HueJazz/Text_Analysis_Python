{
 "cells": [
  {
   "cell_type": "code",
   "execution_count": 1,
   "metadata": {},
   "outputs": [
    {
     "data": {
      "text/plain": [
       "'It was a 18:15 when we left Baker Street 221b, and it still\\nwanted ten minutes to the hour 6-50pm when we found ourselves in Serpentine\\nAvenue@mail.com. It was already dusk,, and the lamps were just being lighted as\\nwe paced up and down in front of Briony Lodge, waiting for the coming\\nof its (343)-45-23 occupant. The house 345-A was just such as I had pictured it from\\nSherlock  HolmesвЂ™s succinct description, but the locality appeared to\\nbe less private that I    expected 456-45-34. On the contrary, for a small Street 23 \\nin a quiet neighborhood here1232@emm.uk, it was remarkably animated. There was a\\ngroup of   shabbily-dressed men smoking and laughing in a corner, a\\nscissors-grinder +308-45-32-21 with his wheel, two guardsmen who were flirting with a\\nnurse-girl, and several well-dressed young men who were lounging up and\\ndown with cigars in their mouths j.watson@gmail.com!!!'"
      ]
     },
     "execution_count": 1,
     "metadata": {},
     "output_type": "execute_result"
    }
   ],
   "source": [
    "text_file = open(\"assets/text2.txt\")\n",
    "text = text_file.read()\n",
    "text"
   ]
  },
  {
   "cell_type": "code",
   "execution_count": 2,
   "metadata": {},
   "outputs": [
    {
     "name": "stdout",
     "output_type": "stream",
     "text": [
      "It was a 18:15 when we left Baker Street 221b, and it s\n",
      "2\n",
      "5\n",
      "28\n",
      "IT WAS A 18:15 WHEN WE LEFT BAKER STREET 221B, AND IT S\n"
     ]
    }
   ],
   "source": [
    "text_new=text[:55]\n",
    "print(text_new)\n",
    "print(text_new.count(\"s\"))\n",
    "print(text_new.find(\"s\"))\n",
    "print(text_new.index(\"Baker\"))\n",
    "print(text_new.upper())"
   ]
  },
  {
   "cell_type": "code",
   "execution_count": 3,
   "metadata": {},
   "outputs": [
    {
     "name": "stdout",
     "output_type": "stream",
     "text": [
      "I?t? ?w?a?s? ?a? ?1?8?:?1?5? ?w?h?e?n? ?w?e? ?l?e?f?t? ?B?a?k?e?r? ?S?t?r?e?e?t? ?2?2?1?b?,? ?a?n?d? ?i?t? ?s\n",
      "False\n",
      "True\n"
     ]
    }
   ],
   "source": [
    "print(\"?\".join(text_new))\n",
    "print(text_new.isalnum())\n",
    "print(text_new.endswith(\"s\"))"
   ]
  },
  {
   "cell_type": "code",
   "execution_count": 4,
   "metadata": {},
   "outputs": [
    {
     "name": "stdout",
     "output_type": "stream",
     "text": [
      "It was a 19:15 when we left Baker Street 221b, and it s\n",
      "['It was a 18:15 when ', ' left Baker Street 221b, and it s']\n"
     ]
    }
   ],
   "source": [
    "print(text_new.replace(\"18:15\",\"19:15\"))\n",
    "print(text_new.split(\"we\"))\n"
   ]
  },
  {
   "cell_type": "code",
   "execution_count": 5,
   "metadata": {},
   "outputs": [
    {
     "data": {
      "text/plain": [
       "('221b', '22')"
      ]
     },
     "execution_count": 5,
     "metadata": {},
     "output_type": "execute_result"
    }
   ],
   "source": [
    "import re\n",
    "n = re.compile(r'(\\d\\d)(\\d\\w)')\n",
    "addr = n.search(text_new)\n",
    "addr.group(0,1)"
   ]
  },
  {
   "cell_type": "code",
   "execution_count": 6,
   "metadata": {},
   "outputs": [
    {
     "data": {
      "text/plain": [
       "'221b'"
      ]
     },
     "execution_count": 6,
     "metadata": {},
     "output_type": "execute_result"
    }
   ],
   "source": [
    "n = re.compile(r'\\d{3}\\w{1}')\n",
    "addr = n.search(text_new)\n",
    "addr.group()"
   ]
  },
  {
   "cell_type": "code",
   "execution_count": 7,
   "metadata": {},
   "outputs": [
    {
     "data": {
      "text/plain": [
       "['18:15 when we left Baker Street 221b']"
      ]
     },
     "execution_count": 7,
     "metadata": {},
     "output_type": "execute_result"
    }
   ],
   "source": [
    "n = re.compile(r'\\d.+\\d\\w')\n",
    "addr = n.findall(text_new)\n",
    "addr"
   ]
  },
  {
   "cell_type": "code",
   "execution_count": 8,
   "metadata": {},
   "outputs": [
    {
     "name": "stdout",
     "output_type": "stream",
     "text": [
      "[' ', ' ', ' ', ':', ' ', ' ', ' ', ' ', ' ', ' ', ',', ' ', ' ', ' ']\n"
     ]
    }
   ],
   "source": [
    "n = re.compile(r'[^a-zA-Z0-9]')\n",
    "addr = n.findall(text_new)\n",
    "print(addr)"
   ]
  },
  {
   "cell_type": "code",
   "execution_count": 9,
   "metadata": {},
   "outputs": [
    {
     "name": "stdout",
     "output_type": "stream",
     "text": [
      "['Baker Street 221b']\n"
     ]
    }
   ],
   "source": [
    "n = re.compile(r'left (.*),')\n",
    "addr = n.findall(text_new)\n",
    "print(addr)\n"
   ]
  },
  {
   "cell_type": "code",
   "execution_count": 10,
   "metadata": {},
   "outputs": [
    {
     "data": {
      "text/plain": [
       "'It was a 18:15 when we left Baker Street 221b, and it still wanted ten minutes to the hour 6-50pm when we found ourselves in Serpentine Avenue@mail.com. It was already dusk, and the lamps were just being lighted as we paced up and down in front of Briony Lodge, waiting for the coming of its (343)-45-23 occupant. The house 345-A was just such as I had pictured it from Sherlock HolmesвЂ™s succinct description, but the locality appeared to be less private that I expected 456-45-34. On the contrary, for a small Street 23  in a quiet neighborhood here1232@emm.uk, it was remarkably animated. There was a group of shabbily-dressed men smoking and laughing in a corner, a scissors-grinder +308-45-32-21 with his wheel, two guardsmen who were flirting with a nurse-girl, and several well-dressed young men who were lounging up and down with cigars in their mouths j.watson@gmail.com!'"
      ]
     },
     "execution_count": 10,
     "metadata": {},
     "output_type": "execute_result"
    }
   ],
   "source": [
    "text1 = re.sub(r' +|\\n', ' ', text)\n",
    "text2 =re.sub(r',+',',',text1)\n",
    "text3 = re.sub(r'!+','!',text2)\n",
    "text3"
   ]
  },
  {
   "cell_type": "code",
   "execution_count": null,
   "metadata": {},
   "outputs": [],
   "source": []
  }
 ],
 "metadata": {
  "kernelspec": {
   "display_name": "Python 3",
   "language": "python",
   "name": "python3"
  },
  "language_info": {
   "codemirror_mode": {
    "name": "ipython",
    "version": 3
   },
   "file_extension": ".py",
   "mimetype": "text/x-python",
   "name": "python",
   "nbconvert_exporter": "python",
   "pygments_lexer": "ipython3",
   "version": "3.10.6"
  },
  "orig_nbformat": 4,
  "vscode": {
   "interpreter": {
    "hash": "52978b8bdfcc6e5745f8bbdaf949e4cfc8f1a9e194d4a7a7ff2e9c425d5c4493"
   }
  }
 },
 "nbformat": 4,
 "nbformat_minor": 2
}
